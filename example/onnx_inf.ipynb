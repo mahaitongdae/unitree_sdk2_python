{
 "cells": [
  {
   "cell_type": "code",
   "execution_count": 2,
   "metadata": {},
   "outputs": [],
   "source": [
    "import onnxruntime as ort\n",
    "import numpy as np\n",
    "onnx_model_path = './model/unitree_go2_flat/policy.onnx'"
   ]
  },
  {
   "cell_type": "code",
   "execution_count": 3,
   "metadata": {},
   "outputs": [],
   "source": [
    "def run_onnx_model(onnx_model_path, input_data):\n",
    "    # Load the ONNX model\n",
    "    session = ort.InferenceSession(onnx_model_path)\n",
    "    \n",
    "    # Get the model's input name\n",
    "    input_name = session.get_inputs()[0].name\n",
    "\n",
    "    # Prepare input data: assuming input_data is already a numpy array\n",
    "    if not isinstance(input_data, np.ndarray):\n",
    "        raise ValueError(\"Input data must be a numpy array\")\n",
    "\n",
    "    # Run the model on the input data\n",
    "    output = session.run(None, {input_name: input_data})\n",
    "\n",
    "    # Return the results\n",
    "    return output"
   ]
  },
  {
   "cell_type": "code",
   "execution_count": 9,
   "metadata": {},
   "outputs": [
    {
     "data": {
      "text/plain": [
       "[array([[ 1.0596935 , -1.0001024 ,  0.46584195, -0.7316454 ,  2.3400986 ,\n",
       "          1.9183847 ,  2.3793132 ,  2.0977824 , -1.5393726 , -0.76855785,\n",
       "         -1.2734089 , -0.01240239]], dtype=float32)]"
      ]
     },
     "execution_count": 9,
     "metadata": {},
     "output_type": "execute_result"
    }
   ],
   "source": [
    "state = np.array([[0.0, 0.0, 0.0,\n",
    "                   0.0, 0.0, 0.0,\n",
    "                   0.0, 0.0, -1.0,\n",
    "                   0.5, 0.0, 0.0,\n",
    "                   0.1076, -0.1074,  0.1055, -0.1052,  0.8402,  0.8403,  0.9645,  0.9645,\n",
    "        -1.7101, -1.7103, -1.7346, -1.7349,\n",
    "                    0.0,0.0,0.0,0.0,0.0,0.0,0.0,0.0,0.0,0.0,0.0,0.0,\n",
    "                    0.0,0.0,0.0,0.0,0.0,0.0,0.0,0.0,0.0,0.0,0.0,0.0,\n",
    "                   ]])\n",
    "\n",
    "run_onnx_model(onnx_model_path, state.astype(np.float32))"
   ]
  }
 ],
 "metadata": {
  "kernelspec": {
   "display_name": "gpyt",
   "language": "python",
   "name": "python3"
  },
  "language_info": {
   "codemirror_mode": {
    "name": "ipython",
    "version": 3
   },
   "file_extension": ".py",
   "mimetype": "text/x-python",
   "name": "python",
   "nbconvert_exporter": "python",
   "pygments_lexer": "ipython3",
   "version": "3.8.15"
  },
  "orig_nbformat": 4
 },
 "nbformat": 4,
 "nbformat_minor": 2
}
