{
 "cells": [
  {
   "cell_type": "code",
   "metadata": {
    "ExecuteTime": {
     "end_time": "2024-09-10T03:02:19.088230Z",
     "start_time": "2024-09-10T03:02:19.084032Z"
    }
   },
   "source": [
    "import onnxruntime as ort\n",
    "import numpy as np\n",
    "import time\n",
    "onnx_model_path = './model/unitree_go2_flat/policy.onnx'"
   ],
   "outputs": [],
   "execution_count": 6
  },
  {
   "cell_type": "code",
   "metadata": {
    "ExecuteTime": {
     "end_time": "2024-09-10T03:02:24.759906Z",
     "start_time": "2024-09-10T03:02:24.757459Z"
    }
   },
   "source": [
    "def run_onnx_model(onnx_model_path, input_data):\n",
    "    # Load the ONNX model\n",
    "    session = ort.InferenceSession(onnx_model_path)\n",
    "    \n",
    "    # Get the model's input name\n",
    "    input_name = session.get_inputs()[0].name\n",
    "\n",
    "    # Prepare input data: assuming input_data is already a numpy array\n",
    "    if not isinstance(input_data, np.ndarray):\n",
    "        raise ValueError(\"Input data must be a numpy array\")\n",
    "\n",
    "    # Run the model on the input data\n",
    "    t = time.time()\n",
    "    output = session.run(None, {input_name: input_data})\n",
    "    print(time.time() - t)\n",
    "\n",
    "    # Return the results\n",
    "    return output"
   ],
   "outputs": [],
   "execution_count": 8
  },
  {
   "cell_type": "code",
   "metadata": {
    "ExecuteTime": {
     "end_time": "2024-09-10T03:02:26.683201Z",
     "start_time": "2024-09-10T03:02:26.676532Z"
    }
   },
   "source": [
    "state = np.array([[ 0.0930,  0.0989,  0.0040,  0.1529,  0.0050, -0.0098, -0.0308, -0.0038,\n",
    "         -0.9657, -0.8347,  0.3505, -0.3559,  0.0095, -0.0083, -0.0073,  0.0071,\n",
    "          0.0050, -0.0025,  0.0032,  0.0095, -0.0064, -0.0081, -0.0051, -0.0054,\n",
    "          0.1655,  1.0735, -0.1323,  0.9607,  0.2294,  1.1372,  0.2599, -0.1753,\n",
    "         -0.8178, -0.8257, -1.2036,  1.1865,  0.0000,  0.0000,  0.0000,  0.0000,\n",
    "          0.0000,  0.0000,  0.0000,  0.0000,  0.0000,  0.0000,  0.0000,  0.0000]])\n",
    "\n",
    "run_onnx_model(onnx_model_path, state.astype(np.float32))"
   ],
   "outputs": [
    {
     "name": "stdout",
     "output_type": "stream",
     "text": [
      "0.0003361701965332031\n"
     ]
    },
    {
     "data": {
      "text/plain": [
       "[array([[-0.65058124,  0.19441372,  0.06222941, -0.13948376, -2.2334106 ,\n",
       "         -1.7028749 ,  0.45482993, -1.2508899 ,  0.35535532,  0.75895566,\n",
       "         -1.8903886 , -0.44854844]], dtype=float32)]"
      ]
     },
     "execution_count": 9,
     "metadata": {},
     "output_type": "execute_result"
    }
   ],
   "execution_count": 9
  },
  {
   "metadata": {
    "ExecuteTime": {
     "end_time": "2024-09-10T02:52:25.558755Z",
     "start_time": "2024-09-10T02:52:25.541901Z"
    }
   },
   "cell_type": "code",
   "source": "import torch\n",
   "outputs": [
    {
     "ename": "ModuleNotFoundError",
     "evalue": "No module named 'torch'",
     "output_type": "error",
     "traceback": [
      "\u001B[0;31m---------------------------------------------------------------------------\u001B[0m",
      "\u001B[0;31mModuleNotFoundError\u001B[0m                       Traceback (most recent call last)",
      "Cell \u001B[0;32mIn[2], line 1\u001B[0m\n\u001B[0;32m----> 1\u001B[0m \u001B[38;5;28;01mimport\u001B[39;00m \u001B[38;5;21;01mtorch\u001B[39;00m\n",
      "\u001B[0;31mModuleNotFoundError\u001B[0m: No module named 'torch'"
     ]
    }
   ],
   "execution_count": 2
  }
 ],
 "metadata": {
  "kernelspec": {
   "display_name": "gpyt",
   "language": "python",
   "name": "python3"
  },
  "language_info": {
   "codemirror_mode": {
    "name": "ipython",
    "version": 3
   },
   "file_extension": ".py",
   "mimetype": "text/x-python",
   "name": "python",
   "nbconvert_exporter": "python",
   "pygments_lexer": "ipython3",
   "version": "3.8.15"
  },
  "orig_nbformat": 4
 },
 "nbformat": 4,
 "nbformat_minor": 2
}
